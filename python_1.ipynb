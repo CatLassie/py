{
 "cells": [
  {
   "cell_type": "code",
   "execution_count": null,
   "id": "740691db-a1be-470c-9545-708ad4850e15",
   "metadata": {},
   "outputs": [],
   "source": [
    "print('it starts')"
   ]
  },
  {
   "cell_type": "code",
   "execution_count": null,
   "id": "d737204d-2903-4933-8b88-ea29cd32e794",
   "metadata": {},
   "outputs": [],
   "source": [
    "x = 5;\n",
    "print(x)"
   ]
  },
  {
   "cell_type": "code",
   "execution_count": null,
   "id": "593cf5b6",
   "metadata": {},
   "outputs": [],
   "source": []
  }
 ],
 "metadata": {
  "kernelspec": {
   "display_name": "Python 3 (ipykernel)",
   "language": "python",
   "name": "python3"
  },
  "language_info": {
   "codemirror_mode": {
    "name": "ipython",
    "version": 3
   },
   "file_extension": ".py",
   "mimetype": "text/x-python",
   "name": "python",
   "nbconvert_exporter": "python",
   "pygments_lexer": "ipython3",
   "version": "3.11.7"
  }
 },
 "nbformat": 4,
 "nbformat_minor": 5
}
